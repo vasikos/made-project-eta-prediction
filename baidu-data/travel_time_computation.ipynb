{
 "cells": [
  {
   "cell_type": "code",
   "execution_count": 186,
   "id": "11229b6a-9fe8-4f0c-921a-b0d30e8acaba",
   "metadata": {
    "execution": {
     "iopub.execute_input": "2021-11-15T18:58:43.598843Z",
     "iopub.status.busy": "2021-11-15T18:58:43.598597Z",
     "iopub.status.idle": "2021-11-15T18:58:43.602959Z",
     "shell.execute_reply": "2021-11-15T18:58:43.602111Z",
     "shell.execute_reply.started": "2021-11-15T18:58:43.598822Z"
    },
    "tags": []
   },
   "outputs": [],
   "source": [
    "import os\n",
    "\n",
    "from datetime import date, datetime, timedelta\n",
    "from tqdm.auto import tqdm\n",
    "from math import sqrt\n",
    "\n",
    "import numpy as np\n",
    "import pandas as pd\n",
    "\n",
    "import networkx as nx"
   ]
  },
  {
   "cell_type": "code",
   "execution_count": 298,
   "id": "e49e4e16-f858-40af-850d-9f85ca227dd1",
   "metadata": {
    "execution": {
     "iopub.execute_input": "2021-11-16T13:57:18.107656Z",
     "iopub.status.busy": "2021-11-16T13:57:18.107267Z",
     "iopub.status.idle": "2021-11-16T13:57:18.132647Z",
     "shell.execute_reply": "2021-11-16T13:57:18.131777Z",
     "shell.execute_reply.started": "2021-11-16T13:57:18.107632Z"
    },
    "tags": []
   },
   "outputs": [],
   "source": [
    "class Roads:\n",
    "    def __init__(self, data_folder):\n",
    "        self.data_folder = data_folder\n",
    "        if data_folder[-1] != '/':\n",
    "            self.data_folder += '/'\n",
    "\n",
    "        self.G = nx.Graph()\n",
    "        self.link_attr = pd.read_csv(self.data_folder + 'roads.csv')\n",
    "        self.G.add_edges_from(self.link_attr[['snodeid', 'enodeid']].apply(tuple, axis=1))\n",
    "        \n",
    "        self.get_link_id = self.link_attr.set_index(['snodeid', 'enodeid'])['link_id'].to_dict()\n",
    "        self.get_link_len = self.link_attr.set_index(['link_id'])['length'].to_dict()\n",
    "        \n",
    "        gps = pd.read_csv(self.data_folder + 'gps.csv')\n",
    "        self.pos = gps.set_index('node_id')[['lon', 'lat']].apply(tuple, axis=1).to_dict()\n",
    "        \n",
    "        self.speed_data = dict()\n",
    "        \n",
    "    def shortest_path(self, start, dest, weight='length'):\n",
    "        if weight not in self.link_attr:\n",
    "            raise NotImplementedError()\n",
    "        attr = self.link_attr[['snodeid', 'enodeid', 'length']].set_index(['snodeid', 'enodeid'])['length'].to_dict()\n",
    "        nx.set_edge_attributes(self.G, attr, weight)\n",
    "        \n",
    "        return nx.shortest_path(self.G, start, dest, weight)\n",
    "    \n",
    "    def compute_time_last(self, timestamp, path):\n",
    "        if isinstance(timestamp, str):\n",
    "            timestamp = datetime.fromisoformat(timestamp)\n",
    "        \n",
    "        day = str(timestamp.date())\n",
    "        if day not in self.speed_data:\n",
    "            speed_df = pd.read_csv(self.data_folder + 'traffic/' + day, header=None)\n",
    "            speed_df = speed_df.groupby([0, 1])[2].mean().unstack().T.sort_index()\n",
    "            self.speed_data[day] = speed_df.to_dict('list')\n",
    "        \n",
    "        start_time_sec = (timestamp.hour * 60 + timestamp.minute) * 60 + timestamp.second\n",
    "        if timestamp.hour > 23:\n",
    "            raise NotImplementedError()\n",
    "        \n",
    "        t_idx = int(start_time_sec // (60 * 15)) - 1\n",
    "            \n",
    "        travel_time = 0\n",
    "        for s, e in zip(path, path[1:]):\n",
    "            if (s, e) in self.get_link_id:\n",
    "                s_e = (s, e)\n",
    "            else:\n",
    "                s_e = (e, s)\n",
    "\n",
    "            edge_id = self.get_link_id[s_e]\n",
    "            length = self.get_link_len[edge_id]\n",
    "            speed = self.speed_data[day][edge_id][t_idx]\n",
    "            edge_time = length / speed * 60 * 60\n",
    "            \n",
    "            travel_time += edge_time\n",
    "        return travel_time\n",
    "    \n",
    "    def compute_time_real(self, timestamp, path):\n",
    "        if isinstance(timestamp, str):\n",
    "            timestamp = datetime.fromisoformat(timestamp)\n",
    "\n",
    "        day = str(timestamp.date())\n",
    "        if day not in self.speed_data:\n",
    "            speed_df = pd.read_csv(self.data_folder + 'traffic/' + day, header=None)\n",
    "            speed_df = speed_df.groupby([0, 1])[2].mean().unstack().T.sort_index()\n",
    "            self.speed_data[day] = speed_df.to_dict('list')\n",
    "        \n",
    "        start_time_sec = (timestamp.hour * 60 + timestamp.minute) * 60 + timestamp.second\n",
    "        if timestamp.hour > 23:\n",
    "            raise NotImplementedError()\n",
    "        \n",
    "        travel_time = 0\n",
    "        for s, e in zip(path, path[1:]):\n",
    "            if (s, e) in self.get_link_id:\n",
    "                s_e = (s, e)\n",
    "            else:\n",
    "                s_e = (e, s)\n",
    "\n",
    "            edge_id = self.get_link_id[s_e]\n",
    "            edge_time = self._compute_edge_time(start_time_sec, edge_id, self.speed_data[day][edge_id])\n",
    "            travel_time += edge_time\n",
    "            start_time_sec += edge_time\n",
    "        return travel_time\n",
    "        \n",
    "    def _compute_edge_time(self, start_time, edge, speed, length=None):\n",
    "        '''\n",
    "        Computes time to travel the edge. We consider two possible outcomes:\n",
    "        1) edge is passed in one 15-minutes interval\n",
    "        2) edge is passed in two consecutive 15-minutes interval\n",
    "        And we hope that every edge could be passed that way)\n",
    "        \n",
    "        length :: kilometers\n",
    "        speeds :: kmph - array of speed on that edge in start of 5 consecutive 15-minutes intervals\n",
    "        start_time :: start time of edge in seconds. Relative to the start of the day\n",
    "        '''\n",
    "        \n",
    "        # S = v0 * t + a * t^2 / 2\n",
    "        # a * t^2 / 2 + v0 * t - S = 0\n",
    "        # D = v0^2 + 4 * a/2 * S = v0^2 - 2 * a * S\n",
    "        \n",
    "        if length is None:\n",
    "            length = self.get_link_len[edge]\n",
    "        \n",
    "        t_idx = int(start_time // (60 * 15))\n",
    "        \n",
    "        a = (speed[t_idx + 1] - speed[t_idx]) * 4\n",
    "        v0 = speed[t_idx] + a * (start_time % (60 * 15)) / 60 / 60\n",
    "        \n",
    "        d = v0 * v0 + 4 * a * length\n",
    "        assert d > 0\n",
    "        \n",
    "        root1 = (-v0 + sqrt(d)) / a / 2\n",
    "        root2 = (-v0 - sqrt(d)) / a / 2\n",
    "        \n",
    "        err1 = length - v0 * root1 - a/2*root1*root1\n",
    "        err2 = length - v0 * root2 - a/2*root2*root2\n",
    "        \n",
    "        if abs(err1) < abs(err2):\n",
    "            time = root1\n",
    "        else:\n",
    "            time = root2\n",
    "\n",
    "        assert min(map(abs, [err1, err2])) < 1e-2\n",
    "\n",
    "        t_to_end = 60 * 15 - (start_time % (60 * 15))\n",
    "        \n",
    "        if time * 60 * 60 < t_to_end:\n",
    "            return time * 60 * 60\n",
    "        else:\n",
    "            t_to_end_h = t_to_end / 60 / 60\n",
    "            next_int = start_time + t_to_end\n",
    "            new_l = length - (v0 * t_to_end_h + a / 2 * t_to_end_h * t_to_end_h)\n",
    "            return t_to_end + self._compute_edge_time(next_int, edge, speed, new_l)"
   ]
  },
  {
   "cell_type": "code",
   "execution_count": 299,
   "id": "11ed2a73-1b8e-4210-99f1-7beb3867079d",
   "metadata": {
    "execution": {
     "iopub.execute_input": "2021-11-16T13:57:18.489935Z",
     "iopub.status.busy": "2021-11-16T13:57:18.489692Z",
     "iopub.status.idle": "2021-11-16T13:57:20.546977Z",
     "shell.execute_reply": "2021-11-16T13:57:20.546366Z",
     "shell.execute_reply.started": "2021-11-16T13:57:18.489911Z"
    },
    "tags": []
   },
   "outputs": [
    {
     "name": "stdout",
     "output_type": "stream",
     "text": [
      "14.939717584210625\n",
      "13.638856273812797\n"
     ]
    }
   ],
   "source": [
    "roads = Roads('data_clean')\n",
    "sp = roads.shortest_path(1520482305, 1530638556)\n",
    "\n",
    "print(roads.compute_time_real(datetime.fromisoformat('2017-04-01 10:14:59'), sp) / 60)\n",
    "print(roads.compute_time_last(datetime.fromisoformat('2017-04-01 10:14:59'), sp) / 60)"
   ]
  },
  {
   "cell_type": "code",
   "execution_count": 292,
   "id": "beea03e0-4b49-4d21-8bc9-b157a97ae911",
   "metadata": {
    "execution": {
     "iopub.execute_input": "2021-11-16T13:47:10.551874Z",
     "iopub.status.busy": "2021-11-16T13:47:10.551603Z",
     "iopub.status.idle": "2021-11-16T13:47:10.556391Z",
     "shell.execute_reply": "2021-11-16T13:47:10.555628Z",
     "shell.execute_reply.started": "2021-11-16T13:47:10.551852Z"
    }
   },
   "outputs": [
    {
     "data": {
      "text/plain": [
       "10.27014"
      ]
     },
     "execution_count": 292,
     "metadata": {},
     "output_type": "execute_result"
    }
   ],
   "source": []
  },
  {
   "cell_type": "code",
   "execution_count": 241,
   "id": "19ade6f7-6ce4-4c7f-9822-d6811afc9539",
   "metadata": {
    "execution": {
     "iopub.execute_input": "2021-11-15T19:27:38.068229Z",
     "iopub.status.busy": "2021-11-15T19:27:38.067796Z",
     "iopub.status.idle": "2021-11-15T19:27:38.073784Z",
     "shell.execute_reply": "2021-11-15T19:27:38.072827Z",
     "shell.execute_reply.started": "2021-11-15T19:27:38.068201Z"
    },
    "tags": []
   },
   "outputs": [
    {
     "data": {
      "text/plain": [
       "0.17116980119282618"
      ]
     },
     "execution_count": 241,
     "metadata": {},
     "output_type": "execute_result"
    }
   ],
   "source": [
    "roads.compute_real_time(datetime.fromisoformat('2017-04-01 01:05:00'), sp)"
   ]
  },
  {
   "cell_type": "code",
   "execution_count": 151,
   "id": "94509da5-1561-4029-b856-547745b0858d",
   "metadata": {
    "execution": {
     "iopub.execute_input": "2021-11-15T18:01:34.214148Z",
     "iopub.status.busy": "2021-11-15T18:01:34.213879Z",
     "iopub.status.idle": "2021-11-15T18:01:34.227207Z",
     "shell.execute_reply": "2021-11-15T18:01:34.225957Z",
     "shell.execute_reply.started": "2021-11-15T18:01:34.214122Z"
    },
    "tags": []
   },
   "outputs": [
    {
     "data": {
      "text/plain": [
       "{(1520482305, 1554157827): 1004419350530,\n",
       " (1520491527, 1531173821): 1144134225924,\n",
       " (1520486999, 1530785480): 1144042225671,\n",
       " (1520486460, 1530638556): 1144134225930,\n",
       " (1520482294, 1520494440): 1462215565325}"
      ]
     },
     "execution_count": 151,
     "metadata": {},
     "output_type": "execute_result"
    }
   ],
   "source": [
    "roads.link_attr.set_index(['snodeid', 'enodeid'])['link_id'].head().to_dict()"
   ]
  },
  {
   "cell_type": "code",
   "execution_count": 172,
   "id": "f484238c-3a70-42da-8f32-9a605dbe28e3",
   "metadata": {
    "execution": {
     "iopub.execute_input": "2021-11-15T18:55:52.900210Z",
     "iopub.status.busy": "2021-11-15T18:55:52.899944Z",
     "iopub.status.idle": "2021-11-15T18:55:52.905073Z",
     "shell.execute_reply": "2021-11-15T18:55:52.904233Z",
     "shell.execute_reply.started": "2021-11-15T18:55:52.900187Z"
    },
    "tags": []
   },
   "outputs": [
    {
     "data": {
      "text/plain": [
       "AtlasView({1554157827: {'length': 0.013}, 1520496758: {'length': 0.017}, 1520485301: {'length': 0.007}, 1520489945: {'length': 0.11}, 1520482952: {'length': 0.039}})"
      ]
     },
     "execution_count": 172,
     "metadata": {},
     "output_type": "execute_result"
    }
   ],
   "source": [
    "roads.G[1520482305]"
   ]
  },
  {
   "cell_type": "code",
   "execution_count": 177,
   "id": "9302c556-086c-45c7-9ffc-c82714478609",
   "metadata": {
    "execution": {
     "iopub.execute_input": "2021-11-15T18:57:21.653634Z",
     "iopub.status.busy": "2021-11-15T18:57:21.653313Z",
     "iopub.status.idle": "2021-11-15T18:57:22.375306Z",
     "shell.execute_reply": "2021-11-15T18:57:22.374579Z",
     "shell.execute_reply.started": "2021-11-15T18:57:21.653603Z"
    },
    "tags": []
   },
   "outputs": [],
   "source": [
    "speed_df = pd.read_csv('data_clean' + '/traffic/2017-04-01', header=None)\n",
    "speed_df = speed_df.groupby([0, 1])[2].mean().unstack().T.sort_index()\n",
    "# speed_df.head().to_dict('list')"
   ]
  },
  {
   "cell_type": "code",
   "execution_count": null,
   "id": "6d7cb2f7-4c76-4fc1-8856-bf8c7132f984",
   "metadata": {
    "tags": []
   },
   "outputs": [],
   "source": []
  },
  {
   "cell_type": "code",
   "execution_count": null,
   "id": "8fc9cd18-04a9-4c6d-9e1c-763fe71d8540",
   "metadata": {
    "tags": []
   },
   "outputs": [],
   "source": []
  },
  {
   "cell_type": "code",
   "execution_count": 191,
   "id": "d25a8c3f-83cd-49f6-81e1-526f72e55ee2",
   "metadata": {
    "execution": {
     "iopub.execute_input": "2021-11-15T18:59:55.592119Z",
     "iopub.status.busy": "2021-11-15T18:59:55.591862Z",
     "iopub.status.idle": "2021-11-15T18:59:56.087457Z",
     "shell.execute_reply": "2021-11-15T18:59:56.086764Z",
     "shell.execute_reply.started": "2021-11-15T18:59:55.592093Z"
    },
    "tags": []
   },
   "outputs": [],
   "source": [
    "roads = Roads('data_clean')\n",
    "sp = roads.shortest_path(1520482305, 1530638556)\n",
    "\n",
    "# roads._compute_edge_time(100, 1004419350530, )"
   ]
  },
  {
   "cell_type": "code",
   "execution_count": 133,
   "id": "7d52b482-d485-46f2-a68e-cf316d611145",
   "metadata": {
    "execution": {
     "iopub.execute_input": "2021-11-15T17:48:21.277519Z",
     "iopub.status.busy": "2021-11-15T17:48:21.277262Z",
     "iopub.status.idle": "2021-11-15T17:48:23.831924Z",
     "shell.execute_reply": "2021-11-15T17:48:23.831326Z",
     "shell.execute_reply.started": "2021-11-15T17:48:21.277495Z"
    },
    "tags": []
   },
   "outputs": [
    {
     "name": "stdout",
     "output_type": "stream",
     "text": [
      "31.2 ms ± 665 µs per loop (mean ± std. dev. of 7 runs, 10 loops each)\n"
     ]
    }
   ],
   "source": [
    "%%timeit\n",
    "sp = roads.shortest_path(1520482305, 1530638556)"
   ]
  },
  {
   "cell_type": "code",
   "execution_count": 13,
   "id": "adc31dca-38f5-40d7-840f-49932b50735b",
   "metadata": {
    "execution": {
     "iopub.execute_input": "2021-11-09T19:36:27.573353Z",
     "iopub.status.busy": "2021-11-09T19:36:27.573131Z",
     "iopub.status.idle": "2021-11-09T19:36:27.576381Z",
     "shell.execute_reply": "2021-11-09T19:36:27.575659Z",
     "shell.execute_reply.started": "2021-11-09T19:36:27.573334Z"
    }
   },
   "outputs": [],
   "source": [
    "from datetime import datetime"
   ]
  },
  {
   "cell_type": "code",
   "execution_count": 107,
   "id": "3004bfd0-9c25-40ed-9e9c-c0fb08132b12",
   "metadata": {
    "execution": {
     "iopub.execute_input": "2021-11-09T20:40:22.994805Z",
     "iopub.status.busy": "2021-11-09T20:40:22.994571Z",
     "iopub.status.idle": "2021-11-09T20:40:22.999046Z",
     "shell.execute_reply": "2021-11-09T20:40:22.998581Z",
     "shell.execute_reply.started": "2021-11-09T20:40:22.994782Z"
    },
    "tags": []
   },
   "outputs": [
    {
     "data": {
      "text/plain": [
       "4"
      ]
     },
     "execution_count": 107,
     "metadata": {},
     "output_type": "execute_result"
    }
   ],
   "source": [
    "datetime.fromisoformat('2021-01-02 03:04:08').minute"
   ]
  },
  {
   "cell_type": "code",
   "execution_count": 116,
   "id": "760fe519-b6db-498a-9364-6c38101fc07d",
   "metadata": {
    "execution": {
     "iopub.execute_input": "2021-11-09T21:00:29.141768Z",
     "iopub.status.busy": "2021-11-09T21:00:29.141532Z",
     "iopub.status.idle": "2021-11-09T21:00:29.788857Z",
     "shell.execute_reply": "2021-11-09T21:00:29.788137Z",
     "shell.execute_reply.started": "2021-11-09T21:00:29.141745Z"
    },
    "tags": []
   },
   "outputs": [
    {
     "data": {
      "text/plain": [
       "3.15799562222"
      ]
     },
     "execution_count": 116,
     "metadata": {},
     "output_type": "execute_result"
    }
   ],
   "source": [
    "tmp = pd.read_csv('data_clean/traffic/2017-04-05', header=None)\n",
    "tmp.groupby([0, 1])[2].mean().unstack().min().min()"
   ]
  },
  {
   "cell_type": "code",
   "execution_count": 58,
   "id": "90c185ba-3dcc-48b4-9d34-f31df1d4a679",
   "metadata": {
    "execution": {
     "iopub.execute_input": "2021-11-09T20:15:36.171330Z",
     "iopub.status.busy": "2021-11-09T20:15:36.171032Z",
     "iopub.status.idle": "2021-11-09T20:15:36.175192Z",
     "shell.execute_reply": "2021-11-09T20:15:36.174491Z",
     "shell.execute_reply.started": "2021-11-09T20:15:36.171309Z"
    },
    "tags": []
   },
   "outputs": [],
   "source": [
    "ten = list(roads.G.nodes)[:10]\n",
    "G_new = nx.subgraph(roads.G, ten)"
   ]
  },
  {
   "cell_type": "code",
   "execution_count": 89,
   "id": "6e0e738c-4001-4702-b557-8d5ea379db4b",
   "metadata": {
    "execution": {
     "iopub.execute_input": "2021-11-09T20:23:20.762085Z",
     "iopub.status.busy": "2021-11-09T20:23:20.761710Z",
     "iopub.status.idle": "2021-11-09T20:23:20.766994Z",
     "shell.execute_reply": "2021-11-09T20:23:20.766097Z",
     "shell.execute_reply.started": "2021-11-09T20:23:20.762046Z"
    },
    "tags": []
   },
   "outputs": [
    {
     "data": {
      "text/plain": [
       "{'length': 0.013}"
      ]
     },
     "execution_count": 89,
     "metadata": {},
     "output_type": "execute_result"
    }
   ],
   "source": [
    "roads.G.edges[(1520482305, 1554157827)]"
   ]
  },
  {
   "cell_type": "code",
   "execution_count": 78,
   "id": "484156b6-bae3-48c0-83b7-50d42647c795",
   "metadata": {
    "execution": {
     "iopub.execute_input": "2021-11-09T20:21:55.321843Z",
     "iopub.status.busy": "2021-11-09T20:21:55.321618Z",
     "iopub.status.idle": "2021-11-09T20:21:55.339514Z",
     "shell.execute_reply": "2021-11-09T20:21:55.338149Z",
     "shell.execute_reply.started": "2021-11-09T20:21:55.321823Z"
    },
    "tags": []
   },
   "outputs": [
    {
     "data": {
      "text/plain": [
       "[(1520482305, 1554157827),\n",
       " (1520482305, 1520496758),\n",
       " (1520482305, 1520485301),\n",
       " (1520482305, 1520489945),\n",
       " (1520482305, 1520482952),\n",
       " (1554157827, 1520486069),\n",
       " (1520491527, 1531173821),\n",
       " (1520491527, 1520481541),\n",
       " (1520491527, 1530821415),\n",
       " (1520491527, 1520499272)]"
      ]
     },
     "execution_count": 78,
     "metadata": {},
     "output_type": "execute_result"
    }
   ],
   "source": [
    "list(roads.G.edges)[:10]"
   ]
  },
  {
   "cell_type": "code",
   "execution_count": 93,
   "id": "18217dd9-0d9d-4fad-b884-24f5de019d47",
   "metadata": {
    "execution": {
     "iopub.execute_input": "2021-11-09T20:24:27.181923Z",
     "iopub.status.busy": "2021-11-09T20:24:27.181636Z",
     "iopub.status.idle": "2021-11-09T20:24:27.186617Z",
     "shell.execute_reply": "2021-11-09T20:24:27.185800Z",
     "shell.execute_reply.started": "2021-11-09T20:24:27.181902Z"
    },
    "tags": []
   },
   "outputs": [
    {
     "data": {
      "text/plain": [
       "[19.418999999999993,\n",
       " 19.41999999999998,\n",
       " 19.48199999999998,\n",
       " 19.481999999999992,\n",
       " 19.472999999999992,\n",
       " 19.490999999999993,\n",
       " 19.54499999999998,\n",
       " 19.58599999999999,\n",
       " 19.531999999999993,\n",
       " 19.47699999999998,\n",
       " 19.556999999999977]"
      ]
     },
     "execution_count": 93,
     "metadata": {},
     "output_type": "execute_result"
    }
   ],
   "source": [
    "h"
   ]
  },
  {
   "cell_type": "code",
   "execution_count": 92,
   "id": "c5d1dac3-43cd-4ea7-a087-4a36cf8b7e63",
   "metadata": {
    "execution": {
     "iopub.execute_input": "2021-11-09T20:23:40.415162Z",
     "iopub.status.busy": "2021-11-09T20:23:40.414925Z",
     "iopub.status.idle": "2021-11-09T20:24:25.039684Z",
     "shell.execute_reply": "2021-11-09T20:24:25.038834Z",
     "shell.execute_reply.started": "2021-11-09T20:23:40.415140Z"
    },
    "tags": []
   },
   "outputs": [
    {
     "data": {
      "application/vnd.jupyter.widget-view+json": {
       "model_id": "2d86ca3091ba437e866fc9e9d7dfdd4a",
       "version_major": 2,
       "version_minor": 0
      },
      "text/plain": [
       "0it [00:00, ?it/s]"
      ]
     },
     "metadata": {},
     "output_type": "display_data"
    },
    {
     "ename": "KeyboardInterrupt",
     "evalue": "",
     "output_type": "error",
     "traceback": [
      "\u001b[0;31m---------------------------------------------------------------------------\u001b[0m",
      "\u001b[0;31mKeyboardInterrupt\u001b[0m                         Traceback (most recent call last)",
      "\u001b[0;32m/var/folders/xf/lvd96vs906l2fldhq9p569100000gp/T/ipykernel_11461/4169021163.py\u001b[0m in \u001b[0;36m<module>\u001b[0;34m\u001b[0m\n\u001b[1;32m      4\u001b[0m \u001b[0;34m\u001b[0m\u001b[0m\n\u001b[1;32m      5\u001b[0m \u001b[0;32mfor\u001b[0m \u001b[0msnode\u001b[0m\u001b[0;34m,\u001b[0m \u001b[0mend_dict\u001b[0m \u001b[0;32min\u001b[0m \u001b[0mtqdm\u001b[0m\u001b[0;34m(\u001b[0m\u001b[0mnx\u001b[0m\u001b[0;34m.\u001b[0m\u001b[0mall_pairs_dijkstra_path_length\u001b[0m\u001b[0;34m(\u001b[0m\u001b[0mroads\u001b[0m\u001b[0;34m.\u001b[0m\u001b[0mG\u001b[0m\u001b[0;34m,\u001b[0m \u001b[0mweight\u001b[0m\u001b[0;34m=\u001b[0m\u001b[0;34m'length'\u001b[0m\u001b[0;34m)\u001b[0m\u001b[0;34m)\u001b[0m\u001b[0;34m:\u001b[0m\u001b[0;34m\u001b[0m\u001b[0;34m\u001b[0m\u001b[0m\n\u001b[0;32m----> 6\u001b[0;31m     \u001b[0;32mfor\u001b[0m \u001b[0menode\u001b[0m\u001b[0;34m,\u001b[0m \u001b[0ml\u001b[0m \u001b[0;32min\u001b[0m \u001b[0mend_dict\u001b[0m\u001b[0;34m.\u001b[0m\u001b[0mitems\u001b[0m\u001b[0;34m(\u001b[0m\u001b[0;34m)\u001b[0m\u001b[0;34m:\u001b[0m\u001b[0;34m\u001b[0m\u001b[0;34m\u001b[0m\u001b[0m\n\u001b[0m\u001b[1;32m      7\u001b[0m         \u001b[0;32mif\u001b[0m \u001b[0mlen\u001b[0m\u001b[0;34m(\u001b[0m\u001b[0mh\u001b[0m\u001b[0;34m)\u001b[0m \u001b[0;34m>\u001b[0m \u001b[0;36m10\u001b[0m\u001b[0;34m:\u001b[0m\u001b[0;34m\u001b[0m\u001b[0;34m\u001b[0m\u001b[0m\n\u001b[1;32m      8\u001b[0m             \u001b[0mheappushpop\u001b[0m\u001b[0;34m(\u001b[0m\u001b[0mh\u001b[0m\u001b[0;34m,\u001b[0m \u001b[0ml\u001b[0m\u001b[0;34m)\u001b[0m\u001b[0;34m\u001b[0m\u001b[0;34m\u001b[0m\u001b[0m\n",
      "\u001b[0;31mKeyboardInterrupt\u001b[0m: "
     ]
    }
   ],
   "source": [
    "h = []\n",
    "\n",
    "from tqdm.auto import tqdm\n",
    "\n",
    "for snode, end_dict in tqdm(nx.all_pairs_dijkstra_path_length(roads.G, weight='length')):\n",
    "    for enode, l in end_dict.items():\n",
    "        if len(h) > 10:\n",
    "            heappushpop(h, l)\n",
    "        else:\n",
    "            heappush(h, l)"
   ]
  },
  {
   "cell_type": "code",
   "execution_count": 51,
   "id": "60231f32-3035-4cf4-ba8d-7e200dcbff5b",
   "metadata": {
    "execution": {
     "iopub.execute_input": "2021-11-09T20:10:49.825607Z",
     "iopub.status.busy": "2021-11-09T20:10:49.825361Z",
     "iopub.status.idle": "2021-11-09T20:10:49.829642Z",
     "shell.execute_reply": "2021-11-09T20:10:49.828835Z",
     "shell.execute_reply.started": "2021-11-09T20:10:49.825585Z"
    },
    "tags": []
   },
   "outputs": [],
   "source": [
    "from heapq import heappush, heappushpop\n",
    "\n",
    "h = []\n",
    "heappush(h, 1)\n",
    "heappush(h, 2)\n",
    "heappush(h, 3)\n",
    "heappush(h, 4)\n",
    "heappush(h, 5)\n",
    "heappush(h, 0)"
   ]
  },
  {
   "cell_type": "code",
   "execution_count": 52,
   "id": "72fb292a-d87f-4bcb-b291-d64f8be5fb4f",
   "metadata": {
    "execution": {
     "iopub.execute_input": "2021-11-09T20:10:50.302492Z",
     "iopub.status.busy": "2021-11-09T20:10:50.302238Z",
     "iopub.status.idle": "2021-11-09T20:10:50.306975Z",
     "shell.execute_reply": "2021-11-09T20:10:50.306353Z",
     "shell.execute_reply.started": "2021-11-09T20:10:50.302468Z"
    },
    "tags": []
   },
   "outputs": [
    {
     "data": {
      "text/plain": [
       "[0, 2, 1, 4, 5, 3]"
      ]
     },
     "execution_count": 52,
     "metadata": {},
     "output_type": "execute_result"
    }
   ],
   "source": [
    "h"
   ]
  },
  {
   "cell_type": "code",
   "execution_count": 54,
   "id": "0e789751-0faa-4b92-90f5-0e9df0b42b1c",
   "metadata": {
    "execution": {
     "iopub.execute_input": "2021-11-09T20:11:58.029799Z",
     "iopub.status.busy": "2021-11-09T20:11:58.029539Z",
     "iopub.status.idle": "2021-11-09T20:11:58.034483Z",
     "shell.execute_reply": "2021-11-09T20:11:58.033621Z",
     "shell.execute_reply.started": "2021-11-09T20:11:58.029779Z"
    },
    "tags": []
   },
   "outputs": [
    {
     "data": {
      "text/plain": [
       "0"
      ]
     },
     "execution_count": 54,
     "metadata": {},
     "output_type": "execute_result"
    }
   ],
   "source": [
    "heappushpop(h, 10)"
   ]
  },
  {
   "cell_type": "code",
   "execution_count": 302,
   "id": "884175bf-c38e-4931-9051-70f097a7823b",
   "metadata": {
    "execution": {
     "iopub.execute_input": "2021-11-17T09:49:29.461619Z",
     "iopub.status.busy": "2021-11-17T09:49:29.461297Z",
     "iopub.status.idle": "2021-11-17T09:49:29.695608Z",
     "shell.execute_reply": "2021-11-17T09:49:29.694713Z",
     "shell.execute_reply.started": "2021-11-17T09:49:29.461568Z"
    },
    "tags": []
   },
   "outputs": [
    {
     "ename": "ModuleNotFoundError",
     "evalue": "No module named 'spinup'",
     "output_type": "error",
     "traceback": [
      "\u001b[0;31m---------------------------------------------------------------------------\u001b[0m",
      "\u001b[0;31mModuleNotFoundError\u001b[0m                       Traceback (most recent call last)",
      "\u001b[0;32m/var/folders/xf/lvd96vs906l2fldhq9p569100000gp/T/ipykernel_11461/2969863258.py\u001b[0m in \u001b[0;36m<module>\u001b[0;34m\u001b[0m\n\u001b[0;32m----> 1\u001b[0;31m \u001b[0;32mimport\u001b[0m \u001b[0mspinup\u001b[0m\u001b[0;34m\u001b[0m\u001b[0;34m\u001b[0m\u001b[0m\n\u001b[0m",
      "\u001b[0;31mModuleNotFoundError\u001b[0m: No module named 'spinup'"
     ]
    }
   ],
   "source": [
    "import spinup"
   ]
  },
  {
   "cell_type": "code",
   "execution_count": 301,
   "id": "2a6326a7-e2e5-4923-a244-76dfd86af125",
   "metadata": {
    "execution": {
     "iopub.execute_input": "2021-11-17T09:07:36.476289Z",
     "iopub.status.busy": "2021-11-17T09:07:36.475985Z",
     "iopub.status.idle": "2021-11-17T09:07:37.465959Z",
     "shell.execute_reply": "2021-11-17T09:07:37.463784Z",
     "shell.execute_reply.started": "2021-11-17T09:07:36.476262Z"
    },
    "tags": []
   },
   "outputs": [
    {
     "name": "stdout",
     "output_type": "stream",
     "text": [
      "\u001b[33mDEPRECATION: Configuring installation scheme with distutils config files is deprecated and will no longer work in the near future. If you are using a Homebrew or Linuxbrew Python, please see discussion at https://github.com/Homebrew/homebrew-core/issues/76621\u001b[0m\n",
      "\u001b[31mERROR: Could not find a version that satisfies the requirement spinningup (from versions: none)\u001b[0m\n",
      "\u001b[31mERROR: No matching distribution found for spinningup\u001b[0m\n",
      "\u001b[33mWARNING: You are using pip version 21.2.4; however, version 21.3.1 is available.\n",
      "You should consider upgrading via the '/usr/local/opt/python@3.9/bin/python3.9 -m pip install --upgrade pip' command.\u001b[0m\n"
     ]
    }
   ],
   "source": [
    "!python3 -m pip install spinningup"
   ]
  },
  {
   "cell_type": "code",
   "execution_count": null,
   "id": "21d58b59-b203-4b3a-9087-104519403178",
   "metadata": {},
   "outputs": [],
   "source": []
  },
  {
   "cell_type": "code",
   "execution_count": null,
   "id": "90a5efa2-5220-4883-8a11-162dff074a0b",
   "metadata": {},
   "outputs": [],
   "source": []
  },
  {
   "cell_type": "code",
   "execution_count": null,
   "id": "0b2d32fb-96b4-4398-baa4-ba6d570a8c0b",
   "metadata": {},
   "outputs": [],
   "source": []
  },
  {
   "cell_type": "code",
   "execution_count": null,
   "id": "74d3dd4b-7fdf-4db1-b91e-1b98f9c549b6",
   "metadata": {},
   "outputs": [],
   "source": []
  },
  {
   "cell_type": "code",
   "execution_count": null,
   "id": "afa8f315-4571-4de5-8fe6-4974339b8685",
   "metadata": {},
   "outputs": [],
   "source": []
  },
  {
   "cell_type": "code",
   "execution_count": null,
   "id": "ef833a16-b24a-4a2c-a9af-02b864e09132",
   "metadata": {},
   "outputs": [],
   "source": []
  },
  {
   "cell_type": "code",
   "execution_count": null,
   "id": "a8ac6c98-626c-4f67-8e57-6566bf29f5b2",
   "metadata": {},
   "outputs": [],
   "source": []
  },
  {
   "cell_type": "code",
   "execution_count": null,
   "id": "f8005b2d-74d4-4af1-982b-db63cfe1849e",
   "metadata": {},
   "outputs": [],
   "source": []
  }
 ],
 "metadata": {
  "kernelspec": {
   "display_name": "Python 3 (ipykernel)",
   "language": "python",
   "name": "python3"
  },
  "language_info": {
   "codemirror_mode": {
    "name": "ipython",
    "version": 3
   },
   "file_extension": ".py",
   "mimetype": "text/x-python",
   "name": "python",
   "nbconvert_exporter": "python",
   "pygments_lexer": "ipython3",
   "version": "3.9.7"
  }
 },
 "nbformat": 4,
 "nbformat_minor": 5
}
